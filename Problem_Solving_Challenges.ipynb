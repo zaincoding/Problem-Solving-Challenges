{
  "nbformat": 4,
  "nbformat_minor": 0,
  "metadata": {
    "colab": {
      "provenance": [],
      "authorship_tag": "ABX9TyNJaNqlBEJVd/Ve17rMka7X",
      "include_colab_link": true
    },
    "kernelspec": {
      "name": "python3",
      "display_name": "Python 3"
    },
    "language_info": {
      "name": "python"
    }
  },
  "cells": [
    {
      "cell_type": "markdown",
      "metadata": {
        "id": "view-in-github",
        "colab_type": "text"
      },
      "source": [
        "<a href=\"https://colab.research.google.com/github/zaincoding/Problem-Solving-Challenges/blob/master/Problem_Solving_Challenges.ipynb\" target=\"_parent\"><img src=\"https://colab.research.google.com/assets/colab-badge.svg\" alt=\"Open In Colab\"/></a>"
      ]
    },
    {
      "cell_type": "markdown",
      "source": [
        "\n",
        "\n",
        " # Reverse a String\n"
      ],
      "metadata": {
        "id": "z3AICqXRYBzI"
      }
    },
    {
      "cell_type": "code",
      "execution_count": null,
      "metadata": {
        "colab": {
          "base_uri": "https://localhost:8080/"
        },
        "id": "EzTHXhK4X7sb",
        "outputId": "3b99d1fb-ecc1-425d-8a92-7bda8141fe9d"
      },
      "outputs": [
        {
          "output_type": "stream",
          "name": "stdout",
          "text": [
            "olleH\n"
          ]
        }
      ],
      "source": [
        "text= \"Hello\"\n",
        "print(text[::-1])"
      ]
    },
    {
      "cell_type": "markdown",
      "source": [
        "# Count Vowels in a String"
      ],
      "metadata": {
        "id": "ZtEeLFUZhfP2"
      }
    },
    {
      "cell_type": "code",
      "source": [
        "\n",
        "text = \"Apple\"\n",
        "\n",
        "count = 0;\n",
        "\n",
        "for  vowel in text:\n",
        "     if (vowel.lower() in ['a','e','i','o','u']):\n",
        "      count += len(vowel)\n",
        "\n",
        "print(f\"Total vowels: {count}\")"
      ],
      "metadata": {
        "colab": {
          "base_uri": "https://localhost:8080/"
        },
        "id": "NeXNdipnfKbB",
        "outputId": "d66b5a3f-7158-46bc-f569-312c00c205c2"
      },
      "execution_count": null,
      "outputs": [
        {
          "output_type": "stream",
          "name": "stdout",
          "text": [
            "Total vowels: 2\n"
          ]
        }
      ]
    },
    {
      "cell_type": "markdown",
      "source": [
        "#Sum of Digits"
      ],
      "metadata": {
        "id": "_WOuYmtoyyx-"
      }
    },
    {
      "cell_type": "code",
      "source": [
        "def sum_digits(number):\n",
        "  return sum(int(digits) for digits in str(number))\n",
        "\n",
        "print(sum_digits(1234))\n",
        "\n"
      ],
      "metadata": {
        "colab": {
          "base_uri": "https://localhost:8080/"
        },
        "id": "JPNyAteehqlO",
        "outputId": "49860eb2-d42c-40a0-c1db-fad658f0febe"
      },
      "execution_count": null,
      "outputs": [
        {
          "output_type": "stream",
          "name": "stdout",
          "text": [
            "10\n"
          ]
        }
      ]
    }
  ]
}